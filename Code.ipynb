{
 "cells": [
  {
   "cell_type": "code",
   "execution_count": null,
   "metadata": {},
   "outputs": [],
   "source": [
    "import cv2\n",
    "import numpy as np \n",
    "import sklearn\n",
    "import random\n",
    "from random import shuffle\n",
    "import glob"
   ]
  },
  {
   "cell_type": "code",
   "execution_count": null,
   "metadata": {},
   "outputs": [],
   "source": [
    "samples = glob.glob('.\\lsp_dataset\\images\\im*.jpg') \n",
    "file = open('.\\lsp_dataset\\labels.txt', 'r') \n",
    "all_labels = file.read()\n",
    "labels = all_labels.split()\n",
    "file.close()"
   ]
  },
  {
   "cell_type": "code",
   "execution_count": null,
   "metadata": {},
   "outputs": [],
   "source": [
    "just_unique = list(set(labels))\n",
    "print(just_unique)   "
   ]
  },
  {
   "cell_type": "code",
   "execution_count": null,
   "metadata": {},
   "outputs": [],
   "source": [
    "from sklearn.model_selection import train_test_split\n",
    "from sklearn import preprocessing\n",
    "from sklearn.preprocessing import LabelEncoder, OneHotEncoder\n",
    "from keras.utils import np_utils\n",
    "\n",
    "encoder = LabelEncoder()\n",
    "encoder.fit(just_unique)\n",
    "encoded_Y = encoder.transform(just_unique)\n",
    "print(encoded_Y)\n",
    "categorical = np_utils.to_categorical(encoded_Y)\n",
    "print(categorical)"
   ]
  },
  {
   "cell_type": "code",
   "execution_count": null,
   "metadata": {},
   "outputs": [],
   "source": [
    "train_samples, validation_and_test_samples = train_test_split(samples, test_size=0.4)\n",
    "validation_samples, test_samples = train_test_split(validation_and_test_samples, test_size=0.5)\n",
    "\n",
    "print(len(train_samples))\n",
    "print(len(validation_samples))"
   ]
  },
  {
   "cell_type": "code",
   "execution_count": null,
   "metadata": {},
   "outputs": [],
   "source": [
    "import matplotlib.pyplot as plt\n",
    "\n",
    "image = cv2.cvtColor(cv2.imread(samples[0]), cv2.COLOR_BGR2RGB)\n",
    "plt.imshow(image)\n",
    "plt.show()\n",
    "\n",
    "image = cv2.resize(image, (96,96))\n",
    "image = image/np.linalg.norm(image, ord=np.inf, axis=0, keepdims=True)\n",
    "plt.imshow(image)\n",
    "plt.show()\n",
    "                    \n",
    "number_list = list(filter(str.isdigit, samples[0]))\n",
    "number_of_label = int(number_list[0])*1000 + int(number_list[1])*100 + int(number_list[2])*10 + int(number_list[3])\n",
    "label = labels[number_of_label-1]\n",
    "print(label)\n",
    "\n",
    "translation_matrix1 = np.float32([ [1,0, random.randint(-10,10)], [0,1, random.randint(-10,10)] ])\n",
    "img_translation1 = cv2.warpAffine(image, translation_matrix1, (96, 96))\n",
    "plt.imshow(img_translation1)\n",
    "plt.show()\n",
    "                    \n",
    "img_cropping1 = cv2.resize(image[random.randint(0,5) : (95-random.randint(0,5)) , random.randint(0,5) : (95-random.randint(0,5)) ], (96,96))\n",
    "plt.imshow(img_cropping1)\n",
    "plt.show()"
   ]
  }
 ],
 "metadata": {
  "kernelspec": {
   "display_name": "Python 3",
   "language": "python",
   "name": "python3"
  },
  "language_info": {
   "codemirror_mode": {
    "name": "ipython",
    "version": 3
   },
   "file_extension": ".py",
   "mimetype": "text/x-python",
   "name": "python",
   "nbconvert_exporter": "python",
   "pygments_lexer": "ipython3",
   "version": "3.6.4"
  }
 },
 "nbformat": 4,
 "nbformat_minor": 2
}
